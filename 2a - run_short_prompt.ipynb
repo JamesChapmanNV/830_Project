{
 "cells": [
  {
   "cell_type": "markdown",
   "id": "88ce49c4",
   "metadata": {},
   "source": [
    "# Short Prompt\n",
    "<br>\n",
    "James Chapman<br>\n",
    "CIS 830 Advanced Topics in AI – Term Project<br>\n",
    "Kansas State University<br><br>\n",
    "\n",
    "This notebook classifies social media posts for ILLICIT/ABUSIVE drug use.<br>\n",
    "\n",
    "- Uses 'short_prompt'\n",
    "- Runs 4 LLMs (2 Paid Services & 2 Local HuggingFace Models)\n",
    "    - o4-mini \n",
    "    - GPT-4o-mini\n",
    "    - Meta-Llama-3.1-8B-Instruct\n",
    "    - Qwen-4B\n",
    "\n",
    "\n",
    "*** Saves response from every LLM call in separate text files."
   ]
  },
  {
   "cell_type": "code",
   "execution_count": 1,
   "id": "4e4579da",
   "metadata": {},
   "outputs": [],
   "source": [
    "import pandas as pd\n",
    "import json\n",
    "import os\n",
    "import re\n",
    "from tqdm import tqdm\n",
    "tqdm.pandas()\n",
    "\n",
    "from utils import (\n",
    "    get_tweets_dataset, \n",
    "    extract_responses,\n",
    "    extract_JSON_labels_and_explanations,\n",
    "    extract_drug_labels,\n",
    "    extract_T_F_labels, \n",
    "    match_terms,\n",
    "    get_confusion_matrix_and_metrics,\n",
    ")\n",
    "from llm_manager import (\n",
    "    run_prompt_on_llm,\n",
    "### paid #################\n",
    "    # get_claude_response, \n",
    "    # get_openai_response, \n",
    "    # get_perplexity_response,\n",
    "    get_openai_gpt4omini_response,\n",
    "    get_openai_o4mini_response,\n",
    "### local #################\n",
    "    get_llama_response, \n",
    "    get_qwen_4b_response,                        \n",
    "    #get_deepseek_qwen_response,\n",
    "    # get_qwen_response,\n",
    "    # get_mistral_response,\n",
    "    cleanup_llama,\n",
    "    cleanup_qwen,\n",
    "    cleanup_qwen_4b,\n",
    "    cleanup_deepseek_qwen,\n",
    "    cleanup_mistral,\n",
    ")"
   ]
  },
  {
   "cell_type": "code",
   "execution_count": 3,
   "id": "beb3eb63",
   "metadata": {},
   "outputs": [],
   "source": [
    "short_prompt = \"\"\"You moderate social‑media posts for drug abuse.\n",
    "\n",
    "Label rules  \n",
    "T – text shows illicit or abusive drug use (using, seeking, buying, selling, trafficking, or slang for drugs).  \n",
    "F – all other cases (medical/policy discussion, news, discouraging use, metaphor).\n",
    "\n",
    "Return only **T** or **F**, no additional text, reasoning, or explanation.\n",
    "\n",
    "Post: \"{{tweet_text}}\"\n",
    "Label:\n",
    "\"\"\""
   ]
  },
  {
   "cell_type": "code",
   "execution_count": 2,
   "id": "c2f8bb3f",
   "metadata": {},
   "outputs": [
    {
     "name": "stdout",
     "output_type": "stream",
     "text": [
      "<class 'pandas.core.frame.DataFrame'>\n",
      "RangeIndex: 1000 entries, 0 to 999\n",
      "Data columns (total 13 columns):\n",
      " #   Column                     Non-Null Count  Dtype \n",
      "---  ------                     --------------  ----- \n",
      " 0   text                       1000 non-null   object\n",
      " 1   label                      1000 non-null   object\n",
      " 2   tweet_num                  1000 non-null   int64 \n",
      " 3   found_terms                1000 non-null   object\n",
      " 4   found_index_terms          1000 non-null   object\n",
      " 5   GPT_found_terms            1000 non-null   object\n",
      " 6   GPT_found_index_terms      1000 non-null   object\n",
      " 7   pubchem_found_terms        1000 non-null   object\n",
      " 8   pubchem_found_index_terms  1000 non-null   object\n",
      " 9   redmed_found_terms         1000 non-null   object\n",
      " 10  redmed_found_index_terms   1000 non-null   object\n",
      " 11  DEA_found_terms            1000 non-null   object\n",
      " 12  DEA_found_index_terms      1000 non-null   object\n",
      "dtypes: int64(1), object(12)\n",
      "memory usage: 101.7+ KB\n"
     ]
    }
   ],
   "source": [
    "tweets = get_tweets_dataset()\n",
    "SEED = 777\n",
    "tweets = ( tweets.sample(n=1_000, random_state=SEED, replace=False)\n",
    "                 .sort_index()\n",
    "                 .reset_index(drop=True)\n",
    ")\n",
    "tweets.info(verbose=True)"
   ]
  },
  {
   "cell_type": "markdown",
   "id": "7e72433f",
   "metadata": {},
   "source": [
    "# RUN 4 MODELS: short_prompt"
   ]
  },
  {
   "cell_type": "code",
   "execution_count": 4,
   "id": "1569ef7c",
   "metadata": {},
   "outputs": [
    {
     "name": "stderr",
     "output_type": "stream",
     "text": [
      "100%|██████████| 1000/1000 [48:41<00:00,  2.92s/it] \n",
      "100%|██████████| 1000/1000 [11:08<00:00,  1.50it/s]\n"
     ]
    }
   ],
   "source": [
    "# o4-mini (smarter than GPT-4o-mini)\n",
    "responses = run_prompt_on_llm(get_openai_o4mini_response, \"o4mini_short\", short_prompt, tweets)\n",
    "#tweets[\"o4mini_response\"] = responses\n",
    "\n",
    "# GPT-4o-mini\n",
    "responses = run_prompt_on_llm(get_openai_gpt4omini_response, \"gpt4omini_short\", short_prompt, tweets)\n",
    "#tweets[\"4o_mini_response\"] = responses\n",
    "\n",
    "# Meta-Llama-3.1-8B-Instruct\n",
    "responses = run_prompt_on_llm(get_llama_response, \"llama_short\", short_prompt, tweets)\n",
    "# tweets[\"llama_response\"] = responses\n",
    "cleanup_llama()\n",
    "\n",
    "# Qwen-4B\n",
    "responses = run_prompt_on_llm(get_qwen_4b_response, \"qwen_4b_short\", short_prompt, tweets)\n",
    "# tweets[\"qwen_4b_response\"] = responses\n",
    "cleanup_qwen_4b()\n"
   ]
  },
  {
   "cell_type": "code",
   "execution_count": null,
   "id": "7d7f2d27",
   "metadata": {},
   "outputs": [],
   "source": [
    ":)"
   ]
  },
  {
   "cell_type": "code",
   "execution_count": null,
   "id": "1d5cf7d8",
   "metadata": {},
   "outputs": [],
   "source": [
    "short_prompt = \"\"\"\n",
    "Classify the following social media content regarding drug references as either illicit/abusive drug-related (**True**) or not (**False**).\n",
    "\n",
    "Output **only** the single word: **True** or **False**. Do not include any other text, punctuation, or formatting.\n",
    "\n",
    "**Definitions:**\n",
    "**True** (Illicit/Abusive Drug-Related): Content mentioning illegal, RX, or OTC drugs in context of abuse (using, buying, promoting), using slang for recreational use, or glorifying misuse.\n",
    "**False** (Not Illicit/Abusive Drug-Related): Content mentioning drugs in medical/educational/prevention context (discouraging), or using drug terms metaphorically/in unrelated topics.\n",
    "\n",
    "**Examples:**\n",
    "Content: `I got her hooked on that lean everyday she say she want codeine`\n",
    "True\n",
    "\n",
    "Content: `All me and Tyler do is crack on each other lmfao`\n",
    "False\n",
    "\n",
    "Content:{{tweet_text}}\n",
    "\"\"\"\n",
    "short_prompt = \"\"\"\n",
    "You are an expert content‑moderator.  \n",
    "Respond with **only** the word: True or False.\n",
    "\n",
    "• True = mentions illegal / Rx / OTC drugs in a misuse context (use, buy, sell, slang, glorify).  \n",
    "• False = medical, educational, preventative, or unrelated use of drug terms.\n",
    "\n",
    "Content: {{tweet_text}}\n",
    "\"\"\"\n",
    "\n"
   ]
  }
 ],
 "metadata": {
  "kernelspec": {
   "display_name": "llamafinetuning5",
   "language": "python",
   "name": "python3"
  },
  "language_info": {
   "codemirror_mode": {
    "name": "ipython",
    "version": 3
   },
   "file_extension": ".py",
   "mimetype": "text/x-python",
   "name": "python",
   "nbconvert_exporter": "python",
   "pygments_lexer": "ipython3",
   "version": "3.12.9"
  }
 },
 "nbformat": 4,
 "nbformat_minor": 5
}
